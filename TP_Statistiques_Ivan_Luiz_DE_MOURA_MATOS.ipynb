{
  "cells": [
    {
      "cell_type": "markdown",
      "metadata": {
        "id": "KkTfQmUFr3xG"
      },
      "source": [
        "#### **MDI220 - Statistiques** (Année 2022/2023)\n",
        "\n",
        "#**Mini-Projet**\n",
        "\n",
        "**Étudiant :** Ivan Luiz DE MOURA MATOS\n",
        "\n",
        "---"
      ]
    },
    {
      "cell_type": "code",
      "execution_count": null,
      "metadata": {
        "id": "tRX9W9NCrIAo"
      },
      "outputs": [],
      "source": [
        "import numpy as np\n",
        "import pandas as pd\n",
        "import scipy.stats as stats\n",
        "import matplotlib.pyplot as plt"
      ]
    },
    {
      "cell_type": "markdown",
      "metadata": {
        "id": "4o1VCwrKiHt6"
      },
      "source": [
        "#### **Exercice 1** (Exploration des données, recherche de leur loi)"
      ]
    },
    {
      "cell_type": "markdown",
      "metadata": {
        "id": "Vo-8r39jiYd3"
      },
      "source": [
        "**Question 1**"
      ]
    },
    {
      "cell_type": "code",
      "execution_count": null,
      "metadata": {
        "id": "DmoRiYhJ0NKB"
      },
      "outputs": [],
      "source": [
        "# Création d'une fonction pour vérifier si une date 'date1' est antérieure\n",
        "# à une date 'date2'. La fonction retourne True si et seulement si 'date1'\n",
        "# est antérieure à 'date2'.\n",
        "# Remarque : Les dates doivent avoir le format 'mois/jour/année'.\n",
        "\n",
        "def date_comparison(date1, date2):\n",
        "\n",
        "    m1, d1, y1 = date1.split('/')\n",
        "    m1, d1, y1 = int(m1), int(d1), int(y1)\n",
        "\n",
        "    m2, d2, y2 = date2.split('/')\n",
        "    m2, d2, y2 = int(m2), int(d2), int(y2)\n",
        "\n",
        "    if (y1 < y2):  return True\n",
        "    if (y1 > y2):  return False\n",
        "\n",
        "    if (m1 < m2):  return True\n",
        "    if (m1 > m2):  return False\n",
        "\n",
        "    if (d1 < d2):  return True\n",
        "    if (d1 >= d2): return False"
      ]
    },
    {
      "cell_type": "code",
      "execution_count": null,
      "metadata": {
        "id": "XXSuknAavaxK"
      },
      "outputs": [],
      "source": [
        "# Initialement, les données seront stockées dans un dataframe df\n",
        "df = pd.read_csv('NuclearPowerAccidents2016.csv')"
      ]
    },
    {
      "cell_type": "markdown",
      "metadata": {
        "id": "XL0th9tawNC0"
      },
      "source": [
        "Après la stockage des données dans un DataFrame, on peut filtrer les données et obtenir le vecteur des coûts des accidents strictement avant l'accident de Three Mile Island. (Les valeurs sont indiquées en millions de dollars.)\n",
        "\n",
        "Pour filtrer les données, on utilise des \"boolean masks\". Le vecteur résultant est ``costs``."
      ]
    },
    {
      "cell_type": "code",
      "execution_count": null,
      "metadata": {
        "id": "YQKoZx1758vr"
      },
      "outputs": [],
      "source": [
        "# \"Boolean mask\" pour effectuer la suppression de toutes les observations avec\n",
        "# date ou coût manquantes\n",
        "mask1 = df['Date'].notnull() & df['Cost (millions 2013US$)'].notnull()\n",
        "\n",
        "# \"Boolean mask\" pour obtenir seulement les données relatifs aux accidents avant\n",
        "# l'accident de Three Mile Island\n",
        "mask2 = df['Date'].map(lambda x: date_comparison(x,'3/28/1979'))\n",
        "\n",
        "# Obtention d'un vecteur (numpy array) des coûts des accidents avant l'accident\n",
        "# de Three Mile Island\n",
        "costs = (df[mask1 & mask2])['Cost (millions 2013US$)'].to_numpy()"
      ]
    },
    {
      "cell_type": "markdown",
      "metadata": {
        "id": "0M6MgqQDv2w8"
      },
      "source": [
        "On montre, maintenant, le vecteur de coûts qu'on a obtenu :"
      ]
    },
    {
      "cell_type": "code",
      "execution_count": null,
      "metadata": {
        "colab": {
          "base_uri": "https://localhost:8080/"
        },
        "id": "EK7AfLHrHq73",
        "outputId": "fbc2e99a-00c3-409f-9b11-950238dce9f7"
      },
      "outputs": [
        {
          "data": {
            "text/plain": [
              "array([8.1890e+03, 4.4000e+03, 3.5000e+03, 2.9000e+03, 2.5000e+03,\n",
              "       1.9645e+03, 1.9000e+03, 1.7334e+03, 1.5000e+03, 1.3300e+03,\n",
              "       1.3000e+03, 1.1000e+03, 1.1000e+03, 9.9000e+02, 8.0000e+02,\n",
              "       7.9390e+02, 7.8840e+02, 5.4140e+02, 5.1150e+02, 4.2520e+02,\n",
              "       2.7710e+02, 1.8000e+02, 1.5000e+02, 1.0000e+02, 1.0000e+02,\n",
              "       9.9500e+01, 9.8000e+01, 8.9900e+01, 8.7700e+01, 8.4500e+01,\n",
              "       7.7000e+01, 6.0100e+01, 5.2400e+01, 3.8000e+01, 3.7500e+01,\n",
              "       2.5700e+01, 2.5700e+01, 1.7100e+01, 1.6100e+01, 1.5000e+01,\n",
              "       1.3900e+01, 1.1800e+01, 1.1400e+01, 6.1000e+00, 4.4000e+00,\n",
              "       1.2000e+00, 1.1000e+00, 0.0000e+00, 0.0000e+00, 0.0000e+00,\n",
              "       0.0000e+00, 0.0000e+00, 0.0000e+00, 0.0000e+00, 0.0000e+00])"
            ]
          },
          "execution_count": 5,
          "metadata": {},
          "output_type": "execute_result"
        }
      ],
      "source": [
        "costs"
      ]
    },
    {
      "cell_type": "markdown",
      "metadata": {
        "id": "GMdzg-9Xv_4E"
      },
      "source": [
        "On peut vérifier que le vecteur de coûts est composé effectivement de 55 observations :"
      ]
    },
    {
      "cell_type": "code",
      "execution_count": null,
      "metadata": {
        "colab": {
          "base_uri": "https://localhost:8080/"
        },
        "id": "saoaDmlC5xxW",
        "outputId": "566871ba-f755-4935-f6d9-70a0dbe6e582"
      },
      "outputs": [
        {
          "data": {
            "text/plain": [
              "55"
            ]
          },
          "execution_count": 6,
          "metadata": {},
          "output_type": "execute_result"
        }
      ],
      "source": [
        "len(costs)  # Taille du vecteur de coûts"
      ]
    },
    {
      "cell_type": "markdown",
      "metadata": {
        "id": "JiXhoDfXiDLZ"
      },
      "source": [
        "---\n",
        "**Question 2**"
      ]
    },
    {
      "cell_type": "markdown",
      "metadata": {
        "id": "ZtLMh70tinWr"
      },
      "source": [
        "**2. (a)**\n",
        "L'objecfif est de montrer que la fonction quantile d'une loi normale $\\mathcal{N}(\\mu,\\sigma^2)$, notée $F^{-1}(p;\\mu,\\sigma^2)$, vérifie\n",
        "$$\n",
        "\\forall p \\in ]0,1[, \\quad F^{-1}(p;\\mu,\\sigma^2) = \\mu + \\sqrt{\\sigma^2}F^{-1}(p;0,1).\n",
        "$$\n",
        "\\\n",
        "La fonction de densité $f$ correspondante à la loi normale $\\mathcal{N}(\\mu,\\sigma^2)$ est définie par $f(x) = \\frac{1}{\\sqrt{2\\pi\\sigma^2}}\\cdot\\exp\\Big[-\\frac{(x-\\mu)^2}{2\\sigma^2}\\Big]$. Pour la fonction de repartition\n",
        "$F(\\; \\cdot\\; ;\\mu,\\sigma^2)$, on obtient :\n",
        "$$\n",
        "F(x;\\mu,\\sigma^2)\n",
        "= \\int_{-\\infty}^{x} f(y)dy\n",
        "= \\frac{1}{\\sqrt{2\\pi\\sigma^2}} \\int_{-\\infty}^{x} \\exp\\Big[-\\frac{(y-\\mu)^2}{2\\sigma^2}\\Big]dy\n",
        "$$\n",
        "$$\n",
        "= \\frac{1}{\\sqrt{2\\pi}} \\int_{-\\infty}^{\\frac{x-\\mu}{\\sqrt{\\sigma^2}}} \\exp\\Big[-\\frac{z^2}{2}\\Big]dz\n",
        "\\quad \\quad \\Big(\\textrm{on définit} \\quad z = \\frac{y-\\mu}{\\sqrt{\\sigma^2}}\\Big)\n",
        "$$\n",
        "\\\n",
        "On a, donc :  \n",
        "$$\n",
        "F(x;\\mu,\\sigma^2) = F\\Big(\\frac{x-\\mu}{\\sqrt{\\sigma^2}};0,1\\Big)\n",
        "\\quad \\quad \\textrm{(Eq. 1)}\n",
        "$$\n",
        "\\\n",
        "Puisque la densité $f$ est strictement positive, la fonction $F(\\;\\cdot\\;;\\mu,\\sigma^2)$ est strictement croissante. Alors la fonction quantile $F^{-1}(\\;\\cdot\\;;\\mu,\\sigma^2)$ correspond à la fonction réciproque de $F(\\;\\cdot\\;;\\mu,\\sigma^2)$ (ici, on considère que $\\mu$ et $\\sigma$ sont fixés). Donc pour une valeur de $p$ donnée (avec $p \\in ]0,1[$), on note\n",
        "$$\n",
        "F^{-1}(p;\\mu,\\sigma^2) = x\n",
        "\\quad \\quad \\textrm{(Eq. 2)}$$\n",
        "pour indiquer que\n",
        "$$\n",
        "F(x;\\mu,\\sigma^2) = p.\n",
        "\\quad \\quad \\textrm{(Eq. 3)}\n",
        "$$\n",
        "\\\n",
        "\\\n",
        "Dans l'équation $1$, si on substitue $x$ et $F(x;\\mu,\\sigma^2)$ par les expressions présentes dans les équations $2$ et $3$ respectivement, on obtient\n",
        "$$\n",
        "p = F\\Big(\\frac{F^{-1}(p;\\mu,\\sigma^2)-\\mu}{\\sqrt{\\sigma^2}};0,1\\Big)\n",
        "$$\n",
        "\\\n",
        "En appliquant la fonction $F^{-1}(\\;\\cdot\\; ; 0,1)$ aux deux côtés de cette équation, on obtient\n",
        "$$\n",
        "F^{-1}(p; 0,1) = \\frac{F^{-1}(p;\\mu,\\sigma^2)-\\mu}{\\sqrt{\\sigma^2}}\n",
        "$$\n",
        "\n",
        "Finalement, on peut écrire\n",
        "$$\n",
        "F^{-1}(p;\\mu,\\sigma^2) = \\mu + \\sqrt{\\sigma^2} \\cdot F^{-1}(p; 0,1), \\quad \\forall p \\in ]0,1[.\n",
        "\\quad \\quad \\quad\n",
        "\\blacksquare\n",
        "$$\n",
        "\n",
        "\n",
        "\n",
        "\n",
        "\n",
        "\n",
        "\n"
      ]
    },
    {
      "cell_type": "markdown",
      "metadata": {
        "id": "ae-Fc0WypuBZ"
      },
      "source": [
        "**2.(b)**\n",
        "On trace le QQ-plot de données pour la **loi normale** :"
      ]
    },
    {
      "cell_type": "code",
      "execution_count": null,
      "metadata": {
        "colab": {
          "base_uri": "https://localhost:8080/",
          "height": 405
        },
        "id": "QDVfBmqlJrKh",
        "outputId": "c98c620a-91f2-4673-c136-6714d7023ab4"
      },
      "outputs": [
        {
          "data": {
            "image/png": "[encoded data removed]",
            "text/plain": [
              "<Figure size 648x432 with 1 Axes>"
            ]
          },
          "metadata": {
            "needs_background": "light"
          },
          "output_type": "display_data"
        }
      ],
      "source": [
        "plt.figure(figsize=(9, 6))\n",
        "stats.probplot(costs, dist='norm', fit=True, plot=plt)\n",
        "\n",
        "plt.title('QQ-plot de données pour la loi normale')\n",
        "plt.xlabel('Quantiles théoriques')\n",
        "plt.ylabel('Valeurs ordonées (coût)')\n",
        "\n",
        "plt.grid()\n",
        "plt.show()"
      ]
    },
    {
      "cell_type": "markdown",
      "metadata": {
        "id": "fZoBGNqpO3DZ"
      },
      "source": [
        "---\n",
        "**Question 3**"
      ]
    },
    {
      "cell_type": "markdown",
      "metadata": {
        "id": "xxlhScsFOwy3"
      },
      "source": [
        "**3. (a)**\n",
        "Maintenant, on est intéressé à montrer que pour un quantile d'une loi exponentielle $\\lambda$ on a\n",
        "$$\n",
        "\\forall p \\in (0,1), \\quad F^{-1}(p;\\lambda) = \\frac{1}{\\lambda}F^{-1}(p;1).\n",
        "$$\n",
        "\\\n",
        "La fonction densité $f$ correspondante à la loi exponentiele de paramètre $\\lambda$ est définie par\n",
        "$$\n",
        "f(x)=\\begin{cases}\n",
        "0, \\quad \\textrm{si} \\quad x < 0\\\\\n",
        "\\lambda\\cdot\\textrm{e}^{-\\lambda\\cdot x}, \\quad \\textrm{si} \\quad x >= 0\n",
        "\\end{cases}\n",
        "$$\n",
        "\n",
        "La fonction de répartition $F(x;\\lambda)$ associé à la loi est donc\n",
        "\n",
        "$$\n",
        "F(x;\\lambda) = \\int_{-\\infty}^{x} f(y)dy\n",
        "$$\n",
        "\n",
        "$$\n",
        "= \\begin{cases}\n",
        "0, \\quad \\textrm{si} \\quad x < 0\\\\\n",
        "\\int_{0}^{x} \\lambda\\cdot\\textrm{e}^{-\\lambda\\cdot y} dy, \\quad \\textrm{si} \\quad x >= 0\n",
        "\\end{cases}\n",
        "$$\n",
        "\n",
        "$$\n",
        "= \\begin{cases}\n",
        "0, \\quad \\textrm{si} \\quad x < 0\\\\\n",
        "1 - \\textrm{e}^{-\\lambda x}, \\quad \\textrm{si} \\quad x >= 0\n",
        "\\end{cases}\n",
        "$$\n",
        "\\\n",
        "Pour $p \\in ]0,1[$, la fonction quantile $F^{-1}(p;\\lambda)$ de la loi exponentielle de paramètre $\\lambda$ peut être obtenue en exprimant la valeur de $x$ tel que $F(x;\\lambda) = p$ :\n",
        "\n",
        "$$\n",
        "F(x;\\lambda) = p \\iff 1 - \\textrm{e}^{-\\lambda x} = p\n",
        "\\iff \\textrm{e}^{-\\lambda x} = 1-p\n",
        "$$\n",
        "$$\n",
        "\\iff x = - \\frac{\\ln(1-p)}{\\lambda}\n",
        "$$\n",
        "\n",
        "Alors pour $p \\in ]0,1[$,\n",
        "$$\n",
        "F^{-1}(p;\\lambda) = - \\frac{\\ln(1-p)}{\\lambda}\n",
        "$$\n",
        "\n",
        "À partir de cette équation, on peut noter que $F^{-1}(p;1)=-\\ln(1-p)$. Donc finalement on peut écrire :\n",
        "$$\n",
        "F^{-1}(p;\\lambda)= \\frac{1}{\\lambda} \\cdot F^{-1}(p;1), \\quad \\forall p \\in ]0,1[.\n",
        "\\quad \\quad \\quad\n",
        "\\blacksquare\n",
        "$$"
      ]
    },
    {
      "cell_type": "markdown",
      "metadata": {
        "id": "osb10Hg3PLON"
      },
      "source": [
        "**3. (b)**\n",
        "\n",
        "On trace le QQ-plot de données pour la **loi exponentielle** :"
      ]
    },
    {
      "cell_type": "code",
      "execution_count": null,
      "metadata": {
        "colab": {
          "base_uri": "https://localhost:8080/",
          "height": 405
        },
        "id": "itVW0j3wJvXi",
        "outputId": "c43ef5c9-4dbd-472a-e121-849d78bff576"
      },
      "outputs": [
        {
          "data": {
            "image/png": "[encoded data removed]",
            "text/plain": [
              "<Figure size 648x432 with 1 Axes>"
            ]
          },
          "metadata": {
            "needs_background": "light"
          },
          "output_type": "display_data"
        }
      ],
      "source": [
        "plt.figure(figsize=(9, 6))\n",
        "stats.probplot(costs, dist='expon', fit=True, plot=plt)\n",
        "\n",
        "plt.title('QQ-plot de données pour la loi exponentielle')\n",
        "plt.xlabel('Quantiles théoriques')\n",
        "plt.ylabel('Valeurs ordonées (coût)')\n",
        "\n",
        "plt.grid()\n",
        "plt.show()"
      ]
    },
    {
      "cell_type": "markdown",
      "metadata": {
        "id": "f0lFimObPNZv"
      },
      "source": [
        "---\n",
        "**Question 4**\n",
        "\n",
        "En comparant les deux QQ-plots obtenus, on peut voir que le modèle exponentielle \"s'ajuste mieux\" aux données (c'est-à-dire, les points bleus sont plus proches de la courbe rouge dans le QQ-plot pour la loi exponentielle, en général). Pour cette raison, la **loi exponentielle** semble être plus plausible pour les données."
      ]
    },
    {
      "cell_type": "markdown",
      "metadata": {
        "id": "o9IXWRHumTz7"
      },
      "source": [
        "---\n",
        "---"
      ]
    },
    {
      "cell_type": "markdown",
      "metadata": {
        "id": "zeaEDYDomU0Q"
      },
      "source": [
        "#### **Exercice 2** (Estimation ponctuelle des paramètres d’une loi exponentielle)"
      ]
    },
    {
      "cell_type": "markdown",
      "metadata": {
        "id": "G1Acg67ymXxV"
      },
      "source": [
        "**Question 1**\n",
        "\n",
        "Puisqu'on considère que les $n$ observations $X_i$ sont indépendants et identiquement distribués (i.i.d.), la vraisemblance $L$ de l'échantillon est donnée par le produit des fonctions de densité $f_i$ des $X_i$ :\n",
        "\n",
        "$$\n",
        "L(x_1,...,x_n;\\lambda) = \\prod_{i=1}^{n}f(x_i;\\lambda).\n",
        "$$\n",
        "\n",
        "On suppose que les $x_i$ sont positifs, donc $f(x_i;\\lambda) = \\lambda\\cdot\\exp(-\\lambda x_i)$ pour chaque $i$, et\n",
        "\n",
        "$$\n",
        "L(x_1,...,x_n;\\lambda) = \\prod_{i=1}^{n} \\lambda\\cdot\\exp(-\\lambda x_i)\n",
        "= \\lambda^n \\cdot \\exp\\Big(-\\lambda\\cdot\\sum_{i=1}^{n}x_i\\Big).\n",
        "$$\n",
        "\n",
        "La valeur $\\widehat{\\lambda}_n$ de $\\lambda$ qui maximise $L(x_1,...,x_n;\\lambda)$ est la même qui maximise $\\ln(L(x_1,...,x_n;\\lambda))$, car le logarithme népérien $\\ln(\\cdot)$ est une fonction monotone croissante.\n",
        "\n",
        "On a :\n",
        "$$\n",
        "\\ln(L(x_1,...,x_n;\\lambda))\n",
        "= \\ln\\Big(\\lambda^n \\cdot \\exp\\Big(-\\lambda\\cdot\\sum_{i=1}^{n}x_i\\Big) \\Big)\n",
        "$$\n",
        "$$\n",
        "= \\ln(\\lambda^n) + \\ln\\Big( \\exp\\Big(-\\lambda\\cdot\\sum_{i=1}^{n}x_i\\Big) \\Big)\n",
        "$$\n",
        "$$\n",
        "= n\\cdot \\ln(\\lambda) - \\lambda \\cdot \\sum_{i=1}^{n}x_i\n",
        "$$\n",
        "\n",
        "La dérivée de $\\ln(L(x_1,...,x_n;\\lambda))$ par rapport à $\\lambda$ est\n",
        "$$\n",
        "\\frac{\\partial}{\\partial \\lambda} \\ln(L(x_1,...,x_n;\\lambda)) = \\frac{\\partial}{\\partial \\lambda} \\Big[n\\cdot \\ln(\\lambda) - \\lambda \\cdot \\sum_{i=1}^{n}x_i \\Big]\n",
        "$$\n",
        "$$\n",
        "= \\frac{n}{\\lambda} -\\sum_{i=1}^{n}x_i\n",
        "$$\n",
        "\n",
        "La valeur de $\\lambda$ qui annule $\\frac{\\partial}{\\partial \\lambda} \\ln(L(x_1,...,x_n;\\lambda))$ est\n",
        "\n",
        "$$\n",
        "\\frac{n}{\\sum_{i=1}^{n}x_i}\n",
        "$$\n",
        "\n",
        "Pour vérifier que $L(x_1,...,x_n;\\lambda)$ atteint la valeur maximum pour $\\lambda = \\frac{n}{\\sum_{i=1}^{n}x_i}$, il suffit de montrer que la dérivée seconde de cette fonction est negative dans ce point. On a\n",
        "\n",
        "$$\n",
        "\\frac{\\partial^2}{\\partial \\lambda^2} \\ln(L(x_1,...,x_n;\\lambda)) = \\frac{\\partial}{\\partial \\lambda} \\Big( \\frac{n}{\\lambda} -\\sum_{i=1}^{n}x_i \\Big) = -\\frac{n}{\\lambda^2} < 0\n",
        "$$\n",
        "\n",
        "Finalement, on peut conclure que l’estimateur du maximum de vraisemblance $\\widehat{\\lambda}_n$ pour le paramètre de la loi exponentielle est :\n",
        "$$\n",
        "\\widehat{\\lambda}_n =\n",
        "\\frac{n}{\\sum_{i=1}^{n}x_i}.\n",
        "\\quad \\quad \\quad \\quad\n",
        "\\blacksquare\n",
        "$$\n"
      ]
    },
    {
      "cell_type": "markdown",
      "metadata": {
        "id": "2TFHyYj9NVGX"
      },
      "source": [
        "Pour l'échantillon donnée, on a :"
      ]
    },
    {
      "cell_type": "code",
      "execution_count": null,
      "metadata": {
        "colab": {
          "base_uri": "https://localhost:8080/"
        },
        "id": "60oGV3aqNSRp",
        "outputId": "889b06af-2368-4b6e-d214-38f7930292b6"
      },
      "outputs": [
        {
          "name": "stdout",
          "output_type": "stream",
          "text": [
            "Valeur du estimateur pour le paramètre lambda : 0.0013767725947156965\n"
          ]
        }
      ],
      "source": [
        "estimateur_lambda = len(costs) / costs.sum()\n",
        "\n",
        "print('Valeur du estimateur pour le paramètre lambda :', estimateur_lambda)"
      ]
    },
    {
      "cell_type": "markdown",
      "metadata": {
        "id": "lhhW68AEKZzW"
      },
      "source": [
        "---\n",
        "**Question 2**"
      ]
    },
    {
      "cell_type": "code",
      "execution_count": null,
      "metadata": {
        "colab": {
          "base_uri": "https://localhost:8080/",
          "height": 426
        },
        "id": "VBuPUCBTjNA8",
        "outputId": "e0dbf4b1-c785-45b6-82a8-7f4fe676bdef"
      },
      "outputs": [
        {
          "data": {
            "image/png": "[encoded data removed]",
            "text/plain": [
              "<Figure size 648x432 with 1 Axes>"
            ]
          },
          "metadata": {
            "needs_background": "light"
          },
          "output_type": "display_data"
        }
      ],
      "source": [
        "plt.figure(figsize=(9, 6))\n",
        "\n",
        "costs_linspace = np.linspace(costs.min(),costs.max())\n",
        "exponential = estimateur_lambda*np.exp(-estimateur_lambda*costs_linspace)\n",
        "plt.plot(costs_linspace, exponential)\n",
        "plt.hist(costs, density=True)\n",
        "plt.legend(['Loi exponentielle avec paramètre $\\\\hat{\\\\lambda}$','Histogramme de l\\'échantillon'])\n",
        "\n",
        "plt.title('Comparaison entre l\\'histogramme des données \\n et la loi exponentielle avec paramètre $\\\\hat{\\\\lambda}$')\n",
        "plt.xlabel('Coût (en millions de dollars)')\n",
        "plt.ylabel('Densité')\n",
        "\n",
        "plt.grid()\n",
        "plt.show()"
      ]
    },
    {
      "cell_type": "markdown",
      "metadata": {
        "id": "g9q6lZYfK-fO"
      },
      "source": [
        "---\n",
        "**Question 3**\n",
        "\n",
        "On admet que le modèle $\\{P_\\lambda,\\lambda>0\\}$ est régulier. Pour que $T_1(X) = \\frac{1}{n}\\sum_{i=1}^{n}$ soit un estimateur efficace pour $g_1(\\lambda) = \\frac{1}{\\lambda}$, il faut que deux conditions soient satisfaites pour tout $\\lambda > 0$ (cf. page 39 de la polycopié):\n",
        "\n",
        "\n",
        "**(i).**   $\\mathbb{E}_\\lambda [T_1(X)] = g_1(\\lambda)$, et\n",
        "\n",
        "**(ii).**   $\\textrm{Var}_\\lambda\\Big( T_1(X)\\Big)\n",
        "= \\frac{[g'_1(\\lambda)]^2}{I(\\lambda)}$, où $I(\\lambda)\n",
        "= -\\mathbb{E}_\\lambda\\Big[ \\frac{\\partial^2}{\\partial\\lambda^2} \\ln(L(X;\\lambda)) \\Big]$.\n",
        "\\\n",
        "\\\n",
        "Initialement, on montre que la condition **(i)** ci-dessus est vérifiée. En effet,\n",
        "\n",
        "$$\n",
        "\\mathbb{E}_\\lambda[T_1(X)]\n",
        "= \\mathbb{E}_\\lambda \\Big[ \\frac{\\sum_{i=1}^{n}X_i}{n} \\Big]\n",
        "= \\frac{1}{n}\\cdot\\mathbb{E}_\\lambda \\Big[ \\sum_{i=1}^{n}X_i \\Big] = \\frac{1}{n}\\cdot \\Big(n\\cdot \\frac{1}{\\lambda}\\Big) = \\frac{1}{\\lambda}\n",
        "$$\n",
        "\n",
        "(Ici, on a utilisé le fait que, pour $X_i \\sim \\mathcal{E}(\\lambda) $, on a $\\mathbb{E}_\\lambda(X_i) = 1/\\lambda$.)\n",
        "\n",
        "La condition **(i)** est donc satisfaite : $\\mathbb{E}_\\lambda[T_1(X)] = \\frac{1}{\\lambda} = g_1(\\lambda)$.\n",
        "\\\n",
        "\\\n",
        "Maintenant, on montre que la condition **(ii)** est aussi vérifiée. On a :\n",
        "\n",
        "$$\n",
        "\\textrm{Var}_\\lambda\\Big( T_1(X)\\Big)\n",
        "= \\textrm{Var}_\\lambda\\Big(\\frac{1}{n}\\sum_{i=1}^{n}X_i\\Big)\n",
        "= \\Big(\\frac{1}{n}\\Big)^2 \\cdot \\sum_{i=1}^{n}\\textrm{Var}_\\lambda(X_i)\n",
        "$$\n",
        "Ici, on a utilisé les proprietés du calcul de la variance, et aussi le fait que les variables aléatoires $X_i$ sont i.i.d, ce qui implique $\\textrm{Var}_\\lambda(\\sum X_i) = \\sum [\\textrm{Var}_\\lambda(X_i)]$ . Puisque $\\textrm{Var}_\\lambda(X_i) = 1/\\lambda^2$ pour $X_i \\sim \\mathcal{E}(\\lambda)$, on obtient finalement :\n",
        "\n",
        "$$\n",
        "\\textrm{Var}_\\lambda\\Big( T_1(X)\\Big)\n",
        "= \\frac{1}{n^2} \\cdot \\Big[ n\\cdot \\frac{1}{\\lambda^2} \\Big] = \\frac{1}{n\\cdot\\lambda^2}\n",
        "\\quad \\quad \\textrm{(Eq. 4)}\n",
        "$$\n",
        "\n",
        "D'autre part, on a\n",
        "$$\n",
        "g'_1(\\lambda) = \\Big[\\frac{1}{\\lambda}\\Big]' = -\\frac{1}{\\lambda^2}\n",
        "$$\n",
        "et\n",
        "$$\n",
        "I(\\lambda)\n",
        "= -\\mathbb{E}_\\lambda\\Big[ \\frac{\\partial^2}{\\partial\\lambda^2} \\ln(L(X;\\lambda)) \\Big]\n",
        "= - \\mathbb{E}_\\lambda\\Big[ -\\frac{n}{\\lambda}^2 \\Big] = \\frac{n}{\\lambda}^2\n",
        "$$\n",
        "\n",
        "(dans la Question 1 du Exercice 2, on avait déjà vérifié que\n",
        "$\\frac{\\partial^2}{\\partial\\lambda^2} \\ln(L(X;\\lambda)) = - \\frac{n}{\\lambda^2}$.)\n",
        "\n",
        "On a, donc :\n",
        "$$\n",
        "\\frac{[g'_1(\\lambda)]^2}{I(\\lambda)} = \\frac{[-1/\\lambda^2]^2}{n/\\lambda^2} = \\frac{1}{n\\cdot\\lambda^2}\n",
        "\\quad \\quad \\textrm{(Eq. 5)}\n",
        "$$\n",
        "\n",
        "En comparant les équations $4$ et $5$, on peut noter que $\\textrm{Var}_\\lambda\\Big( T_1(X)\\Big) = \\frac{[g'_1(\\lambda)]^2}{I(\\lambda)}$. La condition **(ii)** est donc vérifiée.\n",
        "\n",
        "Finalement, on conclut que $T_1(X)$ est un estimateur efficace pour  $g_1(\\lambda)$.\n",
        "\n",
        "$\\blacksquare$\n"
      ]
    },
    {
      "cell_type": "markdown",
      "metadata": {
        "id": "d6JepqYYK-WE"
      },
      "source": [
        "---\n",
        "**Question 4**\n",
        "\n",
        "On calcule $g_1(\\lambda)$ en utilisant $T_1(X)$ pour l'échantillon donné :"
      ]
    },
    {
      "cell_type": "code",
      "execution_count": null,
      "metadata": {
        "colab": {
          "base_uri": "https://localhost:8080/"
        },
        "id": "denKDM8XH1a3",
        "outputId": "cbd22452-1d15-474b-8f60-cd8fd8754cfe"
      },
      "outputs": [
        {
          "name": "stdout",
          "output_type": "stream",
          "text": [
            "g1 calculée en utilisant T1 :\n",
            " 726.3363636363636\n"
          ]
        }
      ],
      "source": [
        "print('g1 calculée en utilisant T1 :\\n',sum(costs)/len(costs))   # T1 = somme de x_i, divisée par n"
      ]
    },
    {
      "cell_type": "markdown",
      "metadata": {
        "id": "1Ms4JCCqANaV"
      },
      "source": [
        "---\n",
        "**Question 5**\n",
        "\n",
        "Soit $\\eta >0$. Pour le nouvel estimateur $\\widetilde{T}_{1,\\eta}(X) = \\eta \\cdot T_1(X)$, on obtient le risque quadratique\n",
        "\n",
        "$$\n",
        "R(\\lambda,\\widetilde{T}_{1,\\eta})\n",
        "= \\mathbb{E}_\\lambda \\Big[ \\Big( g_1(\\lambda) - \\widetilde{T}_{1,\\eta}(X) \\Big)^2 \\Big]\n",
        "= \\mathbb{E}_\\lambda \\Big[ \\Big( \\frac{1}{\\lambda} - \\eta \\; T_1(X) \\Big)^2 \\Big]\n",
        "$$\n",
        "$$\n",
        "= \\mathbb{E}_\\lambda \\Big[ \\frac{1}{\\lambda^2} - 2\\frac{1}{\\lambda}\\eta\\;T_1(X) + \\eta^2 (T_1(X))^2 \\Big]\n",
        "$$\n",
        "$$\n",
        "= \\frac{1}{\\lambda^2} -\\frac{2\\eta}{\\lambda}\\mathbb{E}_\\lambda[T_1(X)] +\\eta^2\\mathbb{E}_\\lambda[(T_1(X))^2]\n",
        "\\quad \\quad \\textrm{(Eq. 6)}\n",
        "$$\n",
        "\n",
        "Comme obtenu dans la question antérieure (Question 3 de l'Exercice 2) :\n",
        "$$\n",
        "\\mathbb{E}_\\lambda[T_1(X)] = \\frac{1}{\\lambda}\n",
        "\\quad \\quad \\quad \\textrm{(Eq. 7)}\n",
        "$$\n",
        "et\n",
        "$$\n",
        "\\textrm{Var}_\\lambda\\Big( T_1(X)\\Big) = \\frac{1}{n\\cdot \\lambda^2}\n",
        "$$\n",
        "\n",
        "On a donc\n",
        "$$\n",
        "\\mathbb{E}_\\lambda[(T_1(X))^2]\n",
        "= \\textrm{Var}_\\lambda\\Big( T_1(X)\\Big) + [\\mathbb{E}_\\lambda[T_1(X)]]^2\n",
        "= \\frac{1}{n\\cdot \\lambda^2} + \\frac{1}{\\lambda^2}\n",
        "\\quad \\quad \\textrm{(Eq. 8)}\n",
        "$$\n",
        "\n",
        "En substituant les équations $7$ et $8$ dans l'équation $6$, on obtient\n",
        "\n",
        "$$\n",
        "R(\\lambda,\\widetilde{T}_{1,\\eta})\n",
        "= \\frac{1}{\\lambda^2} -\\frac{2\\eta}{\\lambda} \\frac{1}{\\lambda} + \\eta^2 \\Big( \\frac{1}{n\\cdot \\lambda^2} + \\frac{1}{\\lambda^2} \\Big)\n",
        "$$\n",
        "$$\n",
        "= \\frac{1}{\\lambda^2} - \\frac{2\\eta}{\\lambda^2} + \\frac{\\eta^2}{n\\cdot\\lambda^2} + \\frac{\\eta^2}{\\lambda^2}\n",
        "$$\n",
        "\n",
        "Donc,\n",
        "$$\n",
        "R(\\lambda,\\widetilde{T}_{1,\\eta})\n",
        "= \\frac{n - 2\\eta\\cdot n + \\eta^2 + \\eta^2 \\cdot n}{n\\cdot\\lambda^2}\n",
        "\\quad \\textrm{(Eq. 9)}\n",
        "$$\n",
        "\n",
        "Maintenant, on va exprimer le risque quadratique pour l'estimateur $T_1(X)$ :\n",
        "\n",
        "$$\n",
        "R(\\lambda,T_1)\n",
        "= \\mathbb{E}_\\lambda \\Big[ \\Big( g_1(\\lambda) - T_1(X) \\Big)^2 \\Big]\n",
        "= \\mathbb{E}_\\lambda \\Big[ \\Big( \\frac{1}{\\lambda} - T_1(X) \\Big)^2 \\Big]\n",
        "$$\n",
        "$$\n",
        "= \\mathbb{E}_\\lambda \\Big[ \\frac{1}{\\lambda^2} - 2\\cdot\\frac{1}{\\lambda}T_1(X) + (T_1(X))^2 \\Big]\n",
        "$$\n",
        "$$\n",
        "= \\frac{1}{\\lambda^2} - \\frac{2}{\\lambda}\\mathbb{E}_\\lambda[T_1(X)] + \\mathbb{E}_\\lambda[(T_1(X))^2]\n",
        "$$\n",
        "\n",
        "En substituant les équations $7$ et $8$ dans la dernière expression, on obtient :\n",
        "\n",
        "$$\n",
        "R(\\lambda,T_1)\n",
        "= \\frac{1}{\\lambda^2} - \\frac{2}{\\lambda}\\cdot\\Big(\\frac{1}{\\lambda}\\Big) + \\Big( \\frac{1}{n\\cdot \\lambda^2} + \\frac{1}{\\lambda^2} \\Big)\n",
        "$$\n",
        "\n",
        "Donc :\n",
        "\n",
        "$$\n",
        "R(\\lambda,T_1) = \\frac{1}{n\\cdot\\lambda^2}\n",
        "\\quad \\quad \\quad \\textrm{(Eq. 10)}\n",
        "$$\n",
        "\n",
        "Maintenant, on va trouver les valeurs de $\\eta$ telles que $R(\\lambda,\\widetilde{T}_{1,\\eta}) < R(\\lambda,T_1) $. En utilisant les équations $9$ et $10$, on obtient (pour $\\lambda > 0$) :\n",
        "\n",
        "$$\n",
        "R(\\lambda,\\widetilde{T}_{1,\\eta}) < R(\\lambda,T_1)\n",
        "\\iff \\frac{n - 2\\eta\\cdot n + \\eta^2 + \\eta^2 \\cdot n}{n\\cdot\\lambda^2} < \\frac{1}{n\\cdot\\lambda^2}\n",
        "$$\n",
        "$$\n",
        "\\iff n - 2\\eta\\cdot n + \\eta^2 + \\eta^2 \\cdot n < 1\n",
        "$$\n",
        "$$\n",
        "\\iff (n+1)\\cdot\\eta^2 - 2n\\cdot\\eta + (n-1) < 0\n",
        "$$\n",
        "\n",
        "Les valeurs de $\\eta$ qui vérifient l'équation $(n+1)\\cdot\\eta^2 - 2n\\cdot\\eta + (n-1) = 0$ sont calculées de la manière suivante (par la formule de résolution d'une équation du second degré) :\n",
        "\n",
        "$$\n",
        "\\eta = \\frac{2n \\; \\pm \\; \\sqrt{4n^2-4(n+1)(n-1)}}{2\\cdot(n+1)}\n",
        "$$\n",
        "$$\n",
        "= \\frac{2n \\pm 2}{2\\cdot(n+1)} = \\frac{n \\; \\pm \\; 1}{n+1}\n",
        "$$\n",
        "\n",
        "$$\n",
        "\\therefore \\quad \\eta = 1 \\quad \\textrm{ou} \\quad \\eta = \\frac{n-1}{n+1}\n",
        "$$\n",
        "\n",
        "Finalement, on peut conclure que, pour tout $\\lambda > 0$ :\n",
        "\n",
        "$$\n",
        "R(\\lambda,\\widetilde{T}_{1,\\eta}) < R(\\lambda,T_1)\n",
        "\\iff \\frac{n-1}{n+1} < \\eta < 1 \\quad \\quad \\quad \\blacksquare\n",
        "$$"
      ]
    },
    {
      "cell_type": "markdown",
      "metadata": {
        "id": "OJ3V2q-qONLx"
      },
      "source": [
        "---\n",
        "**Question 6**\n",
        "\n",
        "Soit $h(\\lambda)$ la médiane correspondant à la loi exponentielle $\\mathcal{E}(\\lambda)$. On s'intéresse à trouver la valeur de $\\eta$ pour que $\\widetilde{T}_{1,\\eta}$ soit l'estimateur sans biais de la médiane.\n",
        "\n",
        "(Remarque : Un estimateur $\\hat{g}(X)$ de $g(\\theta)$ est dit _sans biais_ si $\\mathbb{E}_\\theta[\\hat{g}(X)]= g(\\theta)$.)\n",
        "\n",
        "Pour trouver la médiane de la loi $\\mathcal{E}(\\lambda)$, on doit déterminer quelle valeur de $x$ satisfait $F(x;\\lambda) = \\frac{1}{2}$, où $F(\\;\\cdot\\; ; \\lambda)$ est la fonction de répartition de la loi considerée. On a :\n",
        "\n",
        "$$\n",
        "F(x;\\lambda) = \\frac{1}{2}\n",
        "\\iff 1 - \\textrm{e}^{-\\lambda x} = \\frac{1}{2}\n",
        "$$\n",
        "\n",
        "$$\n",
        "\\iff \\textrm{e}^{-\\lambda x} = \\frac{1}{2}\n",
        "\\iff x = \\frac{\\ln(2)}{\\lambda}\n",
        "$$\n",
        "\n",
        "La médiane de la loi $\\mathcal{E}(\\lambda)$ est, donc : $h(\\lambda) = \\frac{\\ln(2)}{\\lambda}$.\n",
        "\n",
        "On a\n",
        "$$\\mathbb{E}_\\lambda\\Big[ \\widetilde{T}_{1,\\eta} \\Big]\n",
        "= \\mathbb{E}_\\lambda\\Big[ \\eta \\cdot T_1(X) \\Big]\n",
        "$$\n",
        "$$\n",
        "= \\eta \\cdot \\mathbb{E}_\\lambda[T_1(X)]\n",
        "= \\eta \\cdot \\frac{1}{\\lambda}\n",
        "$$\n",
        "\n",
        "Maintenant, on peut déterminer la valeur de $\\eta$ pour que $\\widetilde{T}_{1,\\eta}$ soit un estimateur sans biais de la médiane :\n",
        "\n",
        "$$\n",
        "\\mathbb{E}_\\lambda\\Big[\\widetilde{T}_{1,\\eta}\\Big] = h(\\lambda) = \\frac{\\ln(2)}{\\lambda}\n",
        "\\iff \\eta \\cdot \\frac{1}{\\lambda} = \\frac{\\ln(2)}{\\lambda}\n",
        "$$\n",
        "\n",
        "$$\n",
        "\\iff \\eta = \\ln(2)\n",
        "$$\n",
        "\n",
        "\n",
        "On calcule l'estimateur $\\widetilde{T}_{1,\\eta}$ avec $\\eta = \\ln(2)$ :\n",
        "\n",
        "$$\n",
        "\\widetilde{T}_{1,\\eta} = \\ln(2) \\cdot T_1(X)\n",
        "$$\n",
        "\n",
        "Comme montré précédement, on a $T_1(X) \\approx 726,336$, donc\n",
        "\n",
        "$$\n",
        "\\widetilde{T}_{1,\\eta}\n",
        "\\approx \\ln(2) \\cdot 726,336 \\approx 503,458\n",
        "$$\n",
        "\n",
        "comme calculé dans la ligne de code suivante :"
      ]
    },
    {
      "cell_type": "code",
      "execution_count": null,
      "metadata": {
        "colab": {
          "base_uri": "https://localhost:8080/"
        },
        "id": "f0nC_rZ-J6N7",
        "outputId": "02f236d2-1b09-4ab1-cf6d-b2063e10ccb7"
      },
      "outputs": [
        {
          "name": "stdout",
          "output_type": "stream",
          "text": [
            "Médiane calculée avec l'estimateur : 503.45800259270857\n"
          ]
        }
      ],
      "source": [
        "print('Médiane calculée avec l\\'estimateur :',np.log(2) * sum(costs)/len(costs))"
      ]
    },
    {
      "cell_type": "markdown",
      "metadata": {
        "id": "AQB75jOCKSAp"
      },
      "source": [
        "Maintenant, on détermine la médiane empirique de l'échantillon :"
      ]
    },
    {
      "cell_type": "code",
      "execution_count": null,
      "metadata": {
        "colab": {
          "base_uri": "https://localhost:8080/"
        },
        "id": "AE41cGUsKevZ",
        "outputId": "f2bb1470-bb6c-4ff2-b3b8-c62a89e8fa83"
      },
      "outputs": [
        {
          "name": "stdout",
          "output_type": "stream",
          "text": [
            "Médiane empirique: 89.9\n"
          ]
        }
      ],
      "source": [
        "print('Médiane empirique:', np.median(costs))"
      ]
    },
    {
      "cell_type": "markdown",
      "metadata": {
        "id": "rKmL_ROBK4ZF"
      },
      "source": [
        "On peut voir que la médiane empirique est différent de la médiane calculée avec l'estimateur $\\widetilde{T}_{1,\\eta}$. Cela est dû au fait que les données réels ne suivent pas exactement la loi exponentielle (il y a des différences considerables entre le comportement des données de l'échantillon et la loi exponentielle, comme on peut voir dans le dernière QQ-plot présenté)."
      ]
    },
    {
      "cell_type": "markdown",
      "metadata": {
        "id": "26cy7CZjEF2R"
      },
      "source": [
        "---\n",
        "**Question 7**\n",
        "\n",
        "On est intéressé à comparer les risques quadratiques des estimateurs $T_1$ et $\\widetilde{T}_{1,\\eta}$, comme estimateurs pour $g_1(\\lambda)$.\n",
        "\n",
        "Comme calculé dans la Question 5 de l'Exercice 3 (Équation $10$), le risque quadratique de l'estimateur $T_1$ est $R(\\lambda,T_1) = \\frac{1}{n\\cdot\\lambda^2}$.\n",
        "\n",
        "En utilisant l'équation $9$, on calcule le risque quadratique de $\\widetilde{T}_{1,\\eta}$ pour $\\eta = \\ln(2)$ :\n",
        "\n",
        "$$\n",
        "R(\\lambda,\\widetilde{T}_{1,\\eta}) = \\frac{n - 2[\\ln(2)] \\cdot n + [\\ln(2)]^2 + [\\ln(2)]^2 \\cdot n}{n\\cdot\\lambda^2}\n",
        "$$\n",
        "$$\n",
        "= \\frac{[1-2\\cdot\\ln(2)+(\\ln(2))^2]\\cdot n + (\\ln(2))^2}{n\\cdot\\lambda^2}\n",
        "$$\n",
        "\n",
        "On peut noter que $R(\\lambda,T_1)$ et $R(\\lambda,\\widetilde{T}_{1,\\eta})$ sont fonctions (strictement) décroissantes de $n$. En outre, quand $n \\rightarrow \\infty$, on a :\n",
        "$$\n",
        "R(\\lambda,T_1) \\rightarrow 0 \\quad \\textrm{et} \\quad R(\\lambda,\\widetilde{T}_{1,\\eta}) \\rightarrow \\frac{1 - 2\\cdot\\ln(2) + [\\ln(2)]^2}{\\lambda^2} > 0\n",
        "$$\n",
        "\n",
        "On peut vérifier pour quelles valeurs de la taille $n$ de l'échantillon on a $R(\\lambda,T_1) < R(\\lambda,\\widetilde{T}_{1,\\eta})$ :\n",
        "\n",
        "$$\n",
        "R(\\lambda,T_1) < R(\\lambda,\\widetilde{T}_{1,\\eta})\n",
        "$$\n",
        "$$\n",
        "\\iff \\frac{1}{n\\cdot\\lambda^2} < \\frac{[1-2\\cdot\\ln(2)+(\\ln(2))^2]\\cdot n + (\\ln(2))^2}{n\\cdot\\lambda^2}\n",
        "$$\n",
        "$$\n",
        "\\iff 1-2\\cdot\\ln(2)+(\\ln(2))^2]\\cdot n + (\\ln(2))^2 > 1\n",
        "$$\n",
        "$$\n",
        "\\iff n > \\frac{1-(\\ln(2))^2}{1-2\\cdot\\ln(2) + (\\ln(2))^2} \\approx 5,52\n",
        "$$\n",
        "\n",
        "Donc, pour toute $n \\geq 6$, on a $R(\\lambda,T_1) < R(\\lambda,\\widetilde{T}_{1,\\eta})$, où $\\eta = \\ln(2)$."
      ]
    },
    {
      "cell_type": "markdown",
      "metadata": {
        "id": "hTWCqd96WvL4"
      },
      "source": [
        "---\n",
        "---"
      ]
    },
    {
      "cell_type": "markdown",
      "metadata": {
        "id": "dfK4N54WWxOX"
      },
      "source": [
        "#### **Exercice 3** (Test sur le paramètre d'une loi)\n",
        "\n"
      ]
    },
    {
      "cell_type": "markdown",
      "metadata": {
        "id": "BEg1sji3W_Jr"
      },
      "source": [
        "**Exercice 1**\n",
        "\n",
        "Initialement, on peut écrire les hypothèses de la manière suivante :\n",
        "\n",
        "L'hypothèse nulle: $\\; H_0 : \\textrm{coût moyen} \\geq \\textrm{1 milliard de dollars}$\n",
        "\n",
        "L'hypothèse alternative: $\\; H_1 : \\textrm{coût moyen < 1 milliard de dollars}$\n",
        "\n",
        "Les observations (coûts des accidents) $X_i$ suivent une loi exponentielle $\\mathcal{E}(\\lambda)$, donc le coût moyen est $\\mathbb{E}_\\lambda(X) = \\frac{1}{\\lambda}$, où on note $X = (X_1,...,X_n)$. Cela nous permet de réecrire les hypothèses en fonction du paramètre $\\lambda$ de la loi exponentielle (**Remarque :** ici, on considère que les valeurs des observations $X_i$ sont exprimées en _millions_ de dollars) :\n",
        "\n",
        "$$\n",
        "H_0 : \\; \\lambda \\, \\leq \\, \\frac{1}{10^3} = 10^{-3}\n",
        "$$\n",
        "$$\n",
        "H_1 : \\; \\lambda \\, > \\, \\frac{1}{10^3} = 10^{-3}\n",
        "$$\n"
      ]
    },
    {
      "cell_type": "markdown",
      "metadata": {
        "id": "weg7zNcHcDM_"
      },
      "source": [
        "---\n",
        "**Exercice 2**\n",
        "\n",
        "Soient $\\lambda$ et $\\lambda'$ tels que $\\lambda < \\lambda'$. On a le rapport de vraisemblance :\n",
        "\n",
        "$$\n",
        "\\frac{L(X;\\lambda)}{L(X;\\lambda')}\n",
        "= \\frac{\\prod_{i=1}^{n} \\lambda\\cdot\\exp(-\\lambda x_i)}{\\prod_{i=1}^{n} \\lambda'\\cdot\\exp(-\\lambda' x_i)}\n",
        "$$\n",
        "$$\n",
        "= \\frac{\\lambda^n\\cdot\\exp(-\\lambda\\cdot\\sum_{i=1}^{n}x_i)}{(\\lambda')^n\\cdot\\exp(-\\lambda'\\cdot\\sum_{i=1}^{n}x_i)}\n",
        "$$\n",
        "$$\n",
        "= \\Big(\\frac{\\lambda}{\\lambda'}\\Big)^n \\cdot \\exp\\Big[(\\lambda'-\\lambda)\\cdot\\sum_{i=1}^{n}x_i\\Big]\n",
        "$$\n",
        "\n",
        "Puisque $\\lambda < \\lambda'$, la fonction de vraisemblance $\\frac{L(X;\\lambda)}{L(X;\\lambda')}$ est une fonction monotone et croissante en $\\sum_{i=1}^{n}x_i$ et, par conséquent, est monotone et croissant en $t_1(x_1,...,x_n) := \\frac{\\sum_{i=1}^{n}x_i}{n}$.\n",
        "\\\n",
        "\\\n",
        "(**Rappel :** On a définit précédement la statistique $T_1(X) = \\frac{\\sum_{i=1}^{n}X_i}{n}$.)\n",
        "\\\n",
        "\\\n",
        "Comme l'hypothèse nulle est écrite dans la forme $H_0 : \\; \\lambda \\leq \\lambda_0 = 10^{-3}$, on conclut que la région de rejet est dénifie par $t(x_1,...,x_n) < c$, où $c$ dépend de $\\alpha$.\n",
        "\n",
        "On propose, donc, le test\n",
        "$$\n",
        "\\delta(x_1,...,x_n) = \\mathbb{1}_{\\{ T(x) < c \\}}\n",
        "= \\begin{cases}\n",
        "1, \\quad \\textrm{si} \\quad T_1(x_1,..,x_n) < c \\\\\n",
        "0, \\quad \\textrm{si} \\quad T_1(x_1,..,x_n) \\geq c\n",
        "\\end{cases}\n",
        "$$\n",
        "\n",
        "Maintenant, on discute comment obtenir la valeur de $c$.\n",
        "\n",
        "On a, pour le niveau $\\alpha$ :\n",
        "\n",
        "$$\n",
        "\\alpha = \\mathbb{P}_{\\lambda_0} \\Big( T_1(X) < c \\Big)\n",
        "\\quad \\quad \\quad \\textrm{(Eq. 11)}\n",
        "$$\n",
        "\n",
        "\n",
        "La statistique $T_1$ correspond à la moyenne empirique d'un échantillon de loi exponentielle $\\mathcal{E}(\\lambda)$, donc $T_1$ suit la loi $\\textit{Gamma}(n,n\\cdot\\lambda)$ [voir: https://mistis.inrialpes.fr/software/SMEL/cours/cadre_cours.html].\n",
        "\n",
        "Ainsi, à partir de l'équation $11$ on obtient :\n",
        "\n",
        "$$\n",
        "c = Q_{n,\\,n\\lambda_0}(\\alpha)\n",
        "$$\n",
        "\n",
        "où $Q_{n,n\\lambda_0}$ répresent la fonction quantile de la loi Gamma de paramètres $(n,n\\cdot\\lambda_0)$.\n",
        "\n",
        "Du principe de Neyman-Pearson, on conclut que le test $\\delta$ construit ci-dessus est le plus puissant pour le niveau $\\alpha$."
      ]
    },
    {
      "cell_type": "markdown",
      "metadata": {
        "id": "NNrDe1HYPq97"
      },
      "source": [
        "---\n",
        "**Question 3**\n",
        "\n",
        "Dans ce qui suit, on calcule le coût moyen d'accident et, en utilisant le méthode ``gamma.cdf`` (fonction de répartition de la loi gamma) de la bibliothèque ``scipy``, on calcule la p-valeur $p$ par\n",
        "$$\n",
        "p = Q_{n,n\\lambda_0}(\\frac{x_1+...+x_n}{n})$$\n",
        "où $n = 55$ et $\\lambda_0 = 10^{-3}$, et $Q_{n,n\\lambda_0}$ est la fonction quantile de la loi $\\textit{Gamma}(n,n\\cdot\\lambda_0)$.\n",
        "\n",
        "Remarque : le vecteur de coûts (``costs``) présente les valeurs en millions de dollars."
      ]
    },
    {
      "cell_type": "code",
      "execution_count": null,
      "metadata": {
        "colab": {
          "base_uri": "https://localhost:8080/"
        },
        "id": "-PGe6S3jtx0w",
        "outputId": "667fb649-66ed-4746-a87a-f8671cd814ce"
      },
      "outputs": [
        {
          "name": "stdout",
          "output_type": "stream",
          "text": [
            "Le coût moyen empirique est (en millions de dollars) :  726.3363636363637\n"
          ]
        }
      ],
      "source": [
        "# Calcul du coût moyen (average)\n",
        "avg_cost = costs.sum()/len(costs)\n",
        "\n",
        "print('Le coût moyen empirique est (en millions de dollars) : ', avg_cost)"
      ]
    },
    {
      "cell_type": "code",
      "execution_count": null,
      "metadata": {
        "colab": {
          "base_uri": "https://localhost:8080/"
        },
        "id": "Nk0lpt6EUdKa",
        "outputId": "36c323c5-9ddf-4a23-dd23-b5dbbcddbd47"
      },
      "outputs": [
        {
          "name": "stdout",
          "output_type": "stream",
          "text": [
            "La p-valeur est : 0.013717486423264867\n"
          ]
        }
      ],
      "source": [
        "n = len(costs) # n = 55 = taille de l'échantillon\n",
        "lambda_0 = 1/1000\n",
        "\n",
        "a = n\n",
        "b = n*lambda_0\n",
        "\n",
        "p_value = stats.gamma.cdf(avg_cost, a, loc=0, scale=1/b)\n",
        "\n",
        "print('La p-valeur est :',p_value)"
      ]
    },
    {
      "cell_type": "markdown",
      "metadata": {
        "id": "kg1GdGsMbTzN"
      },
      "source": [
        "La p-valeur calculée est égale à 0,0137. Puisque cette valeur est inférieure à $\\alpha$ ($\\textit{p-valeur} < \\alpha = 0,05$), le test $\\delta$ proposé est égal à 1. Donc on rejette $H_0$ et on peut affirmer (au niveau $\\alpha = 0,05$) que le coût moyen d'accident est inférieur à un milliard de dollars."
      ]
    },
    {
      "cell_type": "code",
      "execution_count": null,
      "metadata": {
        "colab": {
          "base_uri": "https://localhost:8080/"
        },
        "id": "Cse4EwVnUN8p",
        "outputId": "fc9edff9-193f-4397-b3e5-15c07de61e09"
      },
      "outputs": [
        {
          "data": {
            "text/plain": [
              "789.0147974522822"
            ]
          },
          "execution_count": 16,
          "metadata": {},
          "output_type": "execute_result"
        }
      ],
      "source": [
        "stats.gamma.ppf(0.05,a,loc=0,scale=1/b)"
      ]
    },
    {
      "cell_type": "markdown",
      "metadata": {
        "id": "mFIDDN4nX-kt"
      },
      "source": [
        "---\n",
        "**Question 4**"
      ]
    },
    {
      "cell_type": "markdown",
      "metadata": {
        "id": "n91ghdI6z5Ac"
      },
      "source": [
        "Dans ce qui suit, on calcule le coût $c$ qui délimite la région de rejet (c'est-à-dire, la valeur qui limite la région de rejet à droit), et on trace la densité de probabilité de $T_1$."
      ]
    },
    {
      "cell_type": "code",
      "execution_count": null,
      "metadata": {
        "id": "pFWJGpfGpRdF"
      },
      "outputs": [],
      "source": [
        "# Calcul du coût correspondant au limite de la région de rejet\n",
        "# (pour alpha = 0.05) :\n",
        "c = stats.gamma.ppf(0.05,a,loc=0,scale=1/b)"
      ]
    },
    {
      "cell_type": "code",
      "execution_count": null,
      "metadata": {
        "colab": {
          "base_uri": "https://localhost:8080/",
          "height": 418
        },
        "id": "_50b5MEjWVr4",
        "outputId": "75f9c99c-8ece-40f9-f8df-f981756202ed"
      },
      "outputs": [
        {
          "data": {
            "image/png": "[encoded data removed]",
            "text/plain": [
              "<Figure size 648x432 with 1 Axes>"
            ]
          },
          "metadata": {
            "needs_background": "light"
          },
          "output_type": "display_data"
        }
      ],
      "source": [
        "x = np.linspace (500, 1500, 100)\n",
        "y = stats.gamma.pdf(x, a, loc=0, scale=1/b)\n",
        "\n",
        "plt.figure(figsize=(9, 6))\n",
        "\n",
        "plt.plot(x, y)\n",
        "\n",
        "plt.axvline(x=c, label='Limite de la région de rejet ($\\\\alpha$=5%)',color='r')\n",
        "plt.axvline(x=avg_cost, label='Coût moyen empirique',color='g')\n",
        "\n",
        "plt.title('Densité de probabilité de $T_1$')\n",
        "plt.xlabel('Coût moyen d\\'accident \\n (en millions de dollars)')\n",
        "plt.ylabel('Densité de probabilité de $T_1$')\n",
        "\n",
        "plt.grid()\n",
        "plt.legend(loc='upper right')\n",
        "\n",
        "plt.show()"
      ]
    },
    {
      "cell_type": "markdown",
      "metadata": {
        "id": "fS8F_q08sQus"
      },
      "source": [
        "La région de rejet (au niveau $\\alpha = 0,05$) est la région à gauche de la ligne **rouge**. Le coût correspondant au limite de la région de rejet est indiqué ci-dessous :"
      ]
    },
    {
      "cell_type": "code",
      "execution_count": null,
      "metadata": {
        "colab": {
          "base_uri": "https://localhost:8080/"
        },
        "id": "9mTI0LHDuNyH",
        "outputId": "90e6c794-75dd-450e-8cd0-34e784c1d859"
      },
      "outputs": [
        {
          "name": "stdout",
          "output_type": "stream",
          "text": [
            "Le coût correspondant au limite de la région de rejet est :\n",
            " 789.0147974522822\n"
          ]
        }
      ],
      "source": [
        "print('Le coût correspondant au limite de la région de rejet est :\\n', c)"
      ]
    },
    {
      "cell_type": "markdown",
      "metadata": {
        "id": "KNBrGdT2t_aF"
      },
      "source": [
        "La ligne verte répresent le coût moyen empirique, calculé avec les observations $x_1,x_2,...,x_{55}$ du vecteur de coûts (``costs``). Comme montré précédement, ce coût est égal à $726,34$ (en millions de dollars).\n",
        "\n",
        "On peut noter que le coût empirique se trouve dans la région de rejet (car il est inférieur au coût correspondant au limite de la région de rejet, c'est-à-dire : $726,34 < 789,01$). Donc, on rejette l'hypothèse nulle."
      ]
    }
  ],
  "metadata": {
    "colab": {
      "provenance": []
    },
    "kernelspec": {
      "display_name": "Python 3",
      "name": "python3"
    },
    "language_info": {
      "name": "python"
    }
  },
  "nbformat": 4,
  "nbformat_minor": 0
}
